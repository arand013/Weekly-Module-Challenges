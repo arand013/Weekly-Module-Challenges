{
  "cells": [
    {
      "cell_type": "markdown",
      "metadata": {
        "id": "nT07j_5EpNe-"
      },
      "source": [
        "HW Assignment #3\n",
        "\n",
        "- Alexander Aranda\n",
        "- Prof. Ghoraani\n",
        "- Date: 01/25/2025\n",
        "- CAP 41613: INTRODUCTION TO DEEP LEARNING\n",
        "- Link: https://colab.research.google.com/drive/1fUGPPDZALtzb7opINPgspVYFrqSDHuF7?usp=sharing\n"
      ]
    },
    {
      "cell_type": "markdown",
      "metadata": {
        "id": "qP-Ys62TuhGR"
      },
      "source": [
        "\n",
        "Threshold-based Classifier.\n",
        "- We have a two-class classification problem (i.e., C1 and C2).  \n",
        "- Each data sample is represented by two attributes (x, y).\n",
        "- The six data samples in class\n",
        "  - C1:  {(2, 3), (3, 3), (3, 4), (1, 4), (4, 1), (4, 3)},\n",
        "  - C2:  {(0, 0), (0, 3), (1, 1), (1, 2), (2, 1), (2, 2)}"
      ]
    },
    {
      "cell_type": "markdown",
      "metadata": {
        "id": "4gLw_UnsvMNw"
      },
      "source": [
        "1. Plot the data samples. The data points in classes C1 and C2 must be in two different colors and shapes. Label the axes and add legends as appropriate.\n",
        "2. The code asks the user to enter two thresholds thx and thy.\n",
        "3. The code must use appropriate conditions to prevent common errors such as entering characters instead of numbers etc.\n",
        "4. Your code calculates and prints the training accuracy based on the user-entered thresholds. To do so, assume that for any data point (x, y) with x>= thx and y>= thy, the data sample belongs to class C1, and C2 if otherwise. Using this rule and the user-entered thresholds, the code calculates the classification accuracy for the six data samples. The classification accuracy is defined as the number of correctly classified data points divided by the total number of data points (12 here).\n",
        "5. Plot the data samples, the selected thx, and the thx lines.\n",
        "6. Create a loop to continuously repeat parts (d) to (e) and enter different sets of thresholds each time.\n",
        "7. The program will exit the loop once the user writes 'x' as an input for either threshold.\n",
        "8. Based on your observation from the results above, what is a suitable set of thresholds that will give the highest accuracy? Report your suggested thresholds and the corresponding classification accuracy.\n",
        "Tip: create separate functions for threshold entry, classification, accuracy calculation, and plotting. Set the x and y axes ranges between [-1, 5] in your plots."
      ]
    },
    {
      "cell_type": "code",
      "execution_count": 1,
      "metadata": {
        "colab": {
          "base_uri": "https://localhost:8080/",
          "height": 1000
        },
        "id": "Qas5KnCqBVpf",
        "outputId": "deadc1f0-8789-4f93-9df9-0afa51def463"
      },
      "outputs": [
        {
          "name": "stdout",
          "output_type": "stream",
          "text": [
            "Classification Accuracy: 50.00%\n"
          ]
        },
        {
          "data": {
            "image/png": "[encoded data removed]",
            "text/plain": [
              "<Figure size 640x480 with 1 Axes>"
            ]
          },
          "metadata": {},
          "output_type": "display_data"
        },
        {
          "name": "stdout",
          "output_type": "stream",
          "text": [
            "C1 Predictions: [False, False, False, False, False, False]\n",
            "C2 Predictions: [True, True, True, True, True, True]\n",
            "Please input a numerical value.\n",
            "Exiting the program.\n"
          ]
        }
      ],
      "source": [
        "import matplotlib.pyplot as plt\n",
        "\n",
        "# Data samples (C1 & C2)\n",
        "C1_x = [2, 3, 3, 1, 4, 4]\n",
        "C1_y = [3, 3, 4, 4, 1, 3]\n",
        "C2_x = [0, 0, 1, 1, 2, 2]\n",
        "C2_y = [0, 3, 1, 2, 1, 2]\n",
        "\n",
        "# Set axis limits\n",
        "plt.axis([-1, 5, -1, 5])\n",
        "\n",
        "# Function to get the threshold value from the user\n",
        "def get_user_threshold(axis):\n",
        "    while True:\n",
        "        user_input = input(f\"Enter threshold for {axis} axis (th{axis}). Enter 'x' to exit: \")\n",
        "        if user_input == 'x':  # Check if user wants to exit\n",
        "            return 'exit'  # Return a special value to indicate exit\n",
        "        try:\n",
        "            threshold = float(user_input)  # Try converting input to a float\n",
        "            return threshold\n",
        "        except ValueError:\n",
        "            print(\"Please input a numerical value.\")\n",
        "\n",
        "# Function to classify the data points based on the thresholds\n",
        "def classify_data(thx, thy):\n",
        "    C1_pred = []\n",
        "    C2_pred = []\n",
        "\n",
        "    # Classifying C1 data points\n",
        "    for point in range(len(C1_x)):\n",
        "        if C1_x[point] >= thx and C1_y[point] >= thy:\n",
        "            C1_pred.append(True)  # Correctly classified as C1\n",
        "        else:\n",
        "            C1_pred.append(False)  # Incorrectly classified as C2\n",
        "\n",
        "    # Classify C2 data points\n",
        "    for point in range(len(C2_x)):\n",
        "        if C2_x[point] < thx or C2_y[point] < thy:  # If either x or y is less than threshold, it's C2\n",
        "            C2_pred.append(True)  # Correctly classified as C2\n",
        "        else:\n",
        "            C2_pred.append(False)  # Misclassified as C1\n",
        "\n",
        "    return C1_pred, C2_pred\n",
        "\n",
        "# Function to calculate the accuracy of classification\n",
        "def find_accuracy(C1_pred, C2_pred):\n",
        "    correct_predictions = 0\n",
        "    # Count correct predictions in C1\n",
        "    correct_predictions += C1_pred.count(True)\n",
        "    # Count correct predictions in C2\n",
        "    correct_predictions += C2_pred.count(True)\n",
        "\n",
        "    total_predictions = len(C1_pred) + len(C2_pred)\n",
        "    accuracy = (correct_predictions / total_predictions) * 100\n",
        "    return accuracy\n",
        "\n",
        "# Function to plot the data and the thresholds\n",
        "def plot_data(C1_x, C1_y, C2_x, C2_y, thx, thy):\n",
        "    plt.scatter(C1_x, C1_y, color=\"red\", marker=\"D\", label=\"Class C1\")\n",
        "    plt.scatter(C2_x, C2_y, color=\"blue\", marker=\"^\", label=\"Class C2\")\n",
        "\n",
        "    # Plotting the threshold lines using plt.plot\n",
        "    plt.plot([thx, thx], [-1, 5], color=\"orange\", linestyle=\"--\", label=f\"Threshold X = {thx}\")  # Vertical line\n",
        "    plt.plot([-1, 5], [thy, thy], color=\"green\", linestyle=\"--\", label=f\"Threshold Y = {thy}\")  # Horizontal line\n",
        "\n",
        "    plt.xlabel(\"X: Feature 1\")\n",
        "    plt.ylabel(\"Y: Feature 2\")\n",
        "    plt.legend()\n",
        "    plt.title(\"Threshold Based Classifier\")\n",
        "    plt.grid(True)\n",
        "    plt.show()\n",
        "\n",
        "# Main loop for getting thresholds, classifying data, and plotting results\n",
        "while True:\n",
        "    thx = get_user_threshold(\"x\")  # Get threshold for x-axis\n",
        "    if thx == 'exit':  # If user types 'x' to exit\n",
        "        print(\"Exiting the program.\")\n",
        "        break\n",
        "\n",
        "    thy = get_user_threshold(\"y\")  # Get threshold for y-axis\n",
        "    if thy == 'exit':  # If user types 'x' to exit\n",
        "        print(\"Exiting the program.\")\n",
        "        break\n",
        "\n",
        "    # Classify data points based on the thresholds\n",
        "    C1_pred, C2_pred = classify_data(thx, thy)\n",
        "\n",
        "    # Calculate the classification accuracy\n",
        "    accuracy = find_accuracy(C1_pred, C2_pred)\n",
        "    print(f\"Classification Accuracy: {accuracy:.2f}%\")\n",
        "\n",
        "    # Plot the data points and the thresholds\n",
        "    plot_data(C1_x, C1_y, C2_x, C2_y, thx, thy)\n",
        "\n",
        "    # Checking correctly and incorrectly classified values\n",
        "    print(\"C1 Predictions:\", C1_pred)\n",
        "    print(\"C2 Predictions:\", C2_pred)"
      ]
    }
  ],
  "metadata": {
    "colab": {
      "provenance": []
    },
    "kernelspec": {
      "display_name": "Python 3",
      "name": "python3"
    },
    "language_info": {
      "codemirror_mode": {
        "name": "ipython",
        "version": 3
      },
      "file_extension": ".py",
      "mimetype": "text/x-python",
      "name": "python",
      "nbconvert_exporter": "python",
      "pygments_lexer": "ipython3",
      "version": "3.11.5"
    }
  },
  "nbformat": 4,
  "nbformat_minor": 0
}
